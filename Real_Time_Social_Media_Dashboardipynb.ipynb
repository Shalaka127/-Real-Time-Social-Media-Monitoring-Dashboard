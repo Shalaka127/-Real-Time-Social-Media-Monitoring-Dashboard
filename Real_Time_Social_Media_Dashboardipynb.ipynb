{
  "nbformat": 4,
  "nbformat_minor": 0,
  "metadata": {
    "colab": {
      "provenance": []
    },
    "kernelspec": {
      "name": "python3",
      "display_name": "Python 3"
    },
    "language_info": {
      "name": "python"
    }
  },
  "cells": [
    {
      "cell_type": "markdown",
      "source": [
        "#  Real-Time Social Media Dashboard\n",
        "(Colab + Streamlit + ngrok)\n",
        "\n"
      ],
      "metadata": {
        "id": "pXPW6QOkudhJ"
      }
    },
    {
      "cell_type": "markdown",
      "source": [
        "2 — Install dependencies"
      ],
      "metadata": {
        "id": "-RYnuk-1ukLA"
      }
    },
    {
      "cell_type": "code",
      "source": [
        "# Install required packages\n",
        "!pip install --quiet streamlit pyngrok plotly pandas\n"
      ],
      "metadata": {
        "colab": {
          "base_uri": "https://localhost:8080/"
        },
        "id": "N4V5Cq3tuk5A",
        "outputId": "7aad9eae-2c06-47ae-b886-e30784e0818e"
      },
      "execution_count": 1,
      "outputs": [
        {
          "output_type": "stream",
          "name": "stdout",
          "text": [
            "\u001b[2K   \u001b[90m━━━━━━━━━━━━━━━━━━━━━━━━━━━━━━━━━━━━━━━━\u001b[0m \u001b[32m10.1/10.1 MB\u001b[0m \u001b[31m67.8 MB/s\u001b[0m eta \u001b[36m0:00:00\u001b[0m\n",
            "\u001b[2K   \u001b[90m━━━━━━━━━━━━━━━━━━━━━━━━━━━━━━━━━━━━━━━━\u001b[0m \u001b[32m6.9/6.9 MB\u001b[0m \u001b[31m94.2 MB/s\u001b[0m eta \u001b[36m0:00:00\u001b[0m\n",
            "\u001b[?25h"
          ]
        }
      ]
    },
    {
      "cell_type": "markdown",
      "source": [
        "upload Files"
      ],
      "metadata": {
        "id": "ZkgGk5dAutv4"
      }
    },
    {
      "cell_type": "code",
      "source": [
        "# Upload aggregates.csv and/or tweets.csv to the Colab session (use this if not mounting Drive)\n",
        "from google.colab import files\n",
        "uploaded = files.upload()\n",
        "print(\"Uploaded files:\", list(uploaded.keys()))\n"
      ],
      "metadata": {
        "colab": {
          "base_uri": "https://localhost:8080/",
          "height": 125
        },
        "id": "wDAYXBx4uvbn",
        "outputId": "775722e8-dee1-4305-ad5e-ca1539fcede0"
      },
      "execution_count": 2,
      "outputs": [
        {
          "output_type": "display_data",
          "data": {
            "text/plain": [
              "<IPython.core.display.HTML object>"
            ],
            "text/html": [
              "\n",
              "     <input type=\"file\" id=\"files-955f4085-1bd2-4bea-b9e4-cb437e18bcb1\" name=\"files[]\" multiple disabled\n",
              "        style=\"border:none\" />\n",
              "     <output id=\"result-955f4085-1bd2-4bea-b9e4-cb437e18bcb1\">\n",
              "      Upload widget is only available when the cell has been executed in the\n",
              "      current browser session. Please rerun this cell to enable.\n",
              "      </output>\n",
              "      <script>// Copyright 2017 Google LLC\n",
              "//\n",
              "// Licensed under the Apache License, Version 2.0 (the \"License\");\n",
              "// you may not use this file except in compliance with the License.\n",
              "// You may obtain a copy of the License at\n",
              "//\n",
              "//      http://www.apache.org/licenses/LICENSE-2.0\n",
              "//\n",
              "// Unless required by applicable law or agreed to in writing, software\n",
              "// distributed under the License is distributed on an \"AS IS\" BASIS,\n",
              "// WITHOUT WARRANTIES OR CONDITIONS OF ANY KIND, either express or implied.\n",
              "// See the License for the specific language governing permissions and\n",
              "// limitations under the License.\n",
              "\n",
              "/**\n",
              " * @fileoverview Helpers for google.colab Python module.\n",
              " */\n",
              "(function(scope) {\n",
              "function span(text, styleAttributes = {}) {\n",
              "  const element = document.createElement('span');\n",
              "  element.textContent = text;\n",
              "  for (const key of Object.keys(styleAttributes)) {\n",
              "    element.style[key] = styleAttributes[key];\n",
              "  }\n",
              "  return element;\n",
              "}\n",
              "\n",
              "// Max number of bytes which will be uploaded at a time.\n",
              "const MAX_PAYLOAD_SIZE = 100 * 1024;\n",
              "\n",
              "function _uploadFiles(inputId, outputId) {\n",
              "  const steps = uploadFilesStep(inputId, outputId);\n",
              "  const outputElement = document.getElementById(outputId);\n",
              "  // Cache steps on the outputElement to make it available for the next call\n",
              "  // to uploadFilesContinue from Python.\n",
              "  outputElement.steps = steps;\n",
              "\n",
              "  return _uploadFilesContinue(outputId);\n",
              "}\n",
              "\n",
              "// This is roughly an async generator (not supported in the browser yet),\n",
              "// where there are multiple asynchronous steps and the Python side is going\n",
              "// to poll for completion of each step.\n",
              "// This uses a Promise to block the python side on completion of each step,\n",
              "// then passes the result of the previous step as the input to the next step.\n",
              "function _uploadFilesContinue(outputId) {\n",
              "  const outputElement = document.getElementById(outputId);\n",
              "  const steps = outputElement.steps;\n",
              "\n",
              "  const next = steps.next(outputElement.lastPromiseValue);\n",
              "  return Promise.resolve(next.value.promise).then((value) => {\n",
              "    // Cache the last promise value to make it available to the next\n",
              "    // step of the generator.\n",
              "    outputElement.lastPromiseValue = value;\n",
              "    return next.value.response;\n",
              "  });\n",
              "}\n",
              "\n",
              "/**\n",
              " * Generator function which is called between each async step of the upload\n",
              " * process.\n",
              " * @param {string} inputId Element ID of the input file picker element.\n",
              " * @param {string} outputId Element ID of the output display.\n",
              " * @return {!Iterable<!Object>} Iterable of next steps.\n",
              " */\n",
              "function* uploadFilesStep(inputId, outputId) {\n",
              "  const inputElement = document.getElementById(inputId);\n",
              "  inputElement.disabled = false;\n",
              "\n",
              "  const outputElement = document.getElementById(outputId);\n",
              "  outputElement.innerHTML = '';\n",
              "\n",
              "  const pickedPromise = new Promise((resolve) => {\n",
              "    inputElement.addEventListener('change', (e) => {\n",
              "      resolve(e.target.files);\n",
              "    });\n",
              "  });\n",
              "\n",
              "  const cancel = document.createElement('button');\n",
              "  inputElement.parentElement.appendChild(cancel);\n",
              "  cancel.textContent = 'Cancel upload';\n",
              "  const cancelPromise = new Promise((resolve) => {\n",
              "    cancel.onclick = () => {\n",
              "      resolve(null);\n",
              "    };\n",
              "  });\n",
              "\n",
              "  // Wait for the user to pick the files.\n",
              "  const files = yield {\n",
              "    promise: Promise.race([pickedPromise, cancelPromise]),\n",
              "    response: {\n",
              "      action: 'starting',\n",
              "    }\n",
              "  };\n",
              "\n",
              "  cancel.remove();\n",
              "\n",
              "  // Disable the input element since further picks are not allowed.\n",
              "  inputElement.disabled = true;\n",
              "\n",
              "  if (!files) {\n",
              "    return {\n",
              "      response: {\n",
              "        action: 'complete',\n",
              "      }\n",
              "    };\n",
              "  }\n",
              "\n",
              "  for (const file of files) {\n",
              "    const li = document.createElement('li');\n",
              "    li.append(span(file.name, {fontWeight: 'bold'}));\n",
              "    li.append(span(\n",
              "        `(${file.type || 'n/a'}) - ${file.size} bytes, ` +\n",
              "        `last modified: ${\n",
              "            file.lastModifiedDate ? file.lastModifiedDate.toLocaleDateString() :\n",
              "                                    'n/a'} - `));\n",
              "    const percent = span('0% done');\n",
              "    li.appendChild(percent);\n",
              "\n",
              "    outputElement.appendChild(li);\n",
              "\n",
              "    const fileDataPromise = new Promise((resolve) => {\n",
              "      const reader = new FileReader();\n",
              "      reader.onload = (e) => {\n",
              "        resolve(e.target.result);\n",
              "      };\n",
              "      reader.readAsArrayBuffer(file);\n",
              "    });\n",
              "    // Wait for the data to be ready.\n",
              "    let fileData = yield {\n",
              "      promise: fileDataPromise,\n",
              "      response: {\n",
              "        action: 'continue',\n",
              "      }\n",
              "    };\n",
              "\n",
              "    // Use a chunked sending to avoid message size limits. See b/62115660.\n",
              "    let position = 0;\n",
              "    do {\n",
              "      const length = Math.min(fileData.byteLength - position, MAX_PAYLOAD_SIZE);\n",
              "      const chunk = new Uint8Array(fileData, position, length);\n",
              "      position += length;\n",
              "\n",
              "      const base64 = btoa(String.fromCharCode.apply(null, chunk));\n",
              "      yield {\n",
              "        response: {\n",
              "          action: 'append',\n",
              "          file: file.name,\n",
              "          data: base64,\n",
              "        },\n",
              "      };\n",
              "\n",
              "      let percentDone = fileData.byteLength === 0 ?\n",
              "          100 :\n",
              "          Math.round((position / fileData.byteLength) * 100);\n",
              "      percent.textContent = `${percentDone}% done`;\n",
              "\n",
              "    } while (position < fileData.byteLength);\n",
              "  }\n",
              "\n",
              "  // All done.\n",
              "  yield {\n",
              "    response: {\n",
              "      action: 'complete',\n",
              "    }\n",
              "  };\n",
              "}\n",
              "\n",
              "scope.google = scope.google || {};\n",
              "scope.google.colab = scope.google.colab || {};\n",
              "scope.google.colab._files = {\n",
              "  _uploadFiles,\n",
              "  _uploadFilesContinue,\n",
              "};\n",
              "})(self);\n",
              "</script> "
            ]
          },
          "metadata": {}
        },
        {
          "output_type": "stream",
          "name": "stdout",
          "text": [
            "Saving tweets.csv to tweets.csv\n",
            "Saving aggregates.csv to aggregates.csv\n",
            "Uploaded files: ['tweets.csv', 'aggregates.csv']\n"
          ]
        }
      ]
    },
    {
      "cell_type": "markdown",
      "source": [
        "5 — Create the Streamlit app file"
      ],
      "metadata": {
        "id": "cMfad_i6u1UQ"
      }
    },
    {
      "cell_type": "code",
      "source": [
        "# Create collaborator_streamlit_app.py in the working directory\n",
        "app_code = r'''\n",
        "\"\"\"\n",
        "collaborator_streamlit_app.py\n",
        "Team variant of the real-time social media dashboard.\n",
        "- Robust loading of aggregates.csv\n",
        "- Smoothing toggle, range controls, KPI metrics\n",
        "- Optional text analysis if tweets.csv present\n",
        "\"\"\"\n",
        "\n",
        "import os\n",
        "import re\n",
        "from collections import Counter\n",
        "\n",
        "import streamlit as st\n",
        "import pandas as pd\n",
        "import plotly.graph_objects as go\n",
        "import plotly.express as px\n",
        "\n",
        "st.set_page_config(page_title=\"Social Media Monitor — Team\", layout=\"wide\")\n",
        "st.title(\"Social Media Monitor — Team Edition\")\n",
        "\n",
        "# Sidebar controls\n",
        "st.sidebar.header(\"Data & Display\")\n",
        "use_drive = st.sidebar.checkbox(\"Load from Drive\", value=False)\n",
        "if use_drive:\n",
        "    csv_path = st.sidebar.text_input(\"Drive path to aggregates.csv\", \"/content/drive/MyDrive/aggregates.csv\")\n",
        "else:\n",
        "    csv_path = st.sidebar.text_input(\"Workspace filename\", \"aggregates.csv\")\n",
        "\n",
        "# load function\n",
        "def load_aggregates(path):\n",
        "    if not os.path.exists(path):\n",
        "        return None, f\"File not found: {path}\"\n",
        "    try:\n",
        "        df = pd.read_csv(path)\n",
        "    except Exception as e:\n",
        "        return None, f\"Error reading CSV: {e}\"\n",
        "    # normalize expected columns\n",
        "    lc = {c.lower(): c for c in df.columns}\n",
        "    minute_col = lc.get('minute', lc.get('time', lc.get('timestamp', None)))\n",
        "    count_col = lc.get('tweet_count', lc.get('count', None))\n",
        "    sent_col = lc.get('avg_sentiment', lc.get('sentiment', None))\n",
        "    if not minute_col or not count_col or not sent_col:\n",
        "        return None, f\"Missing required columns. Available: {list(df.columns)}\"\n",
        "    df = df.rename(columns={minute_col: 'idx_time', count_col: 'tweets', sent_col: 'sentiment'})\n",
        "    # attempt datetime parse\n",
        "    try:\n",
        "        df['idx_time_dt'] = pd.to_datetime(df['idx_time'], errors='coerce')\n",
        "        xcol = 'idx_time_dt' if df['idx_time_dt'].notna().any() else 'idx_time'\n",
        "    except Exception:\n",
        "        xcol = 'idx_time'\n",
        "    return (df, xcol), None\n",
        "\n",
        "(res, err) = load_aggregates(csv_path)\n",
        "if err:\n",
        "    st.warning(err)\n",
        "    st.info(\"Tip: upload aggregates.csv into the workspace or mount Drive and set the path.\")\n",
        "else:\n",
        "    df, xcol = res\n",
        "    st.sidebar.success(f\"Loaded {os.path.basename(csv_path)} ({df.shape[0]} rows)\")\n",
        "    df['tweets'] = pd.to_numeric(df['tweets'], errors='coerce')\n",
        "    df['sentiment'] = pd.to_numeric(df['sentiment'], errors='coerce')\n",
        "\n",
        "    # display options\n",
        "    apply_smooth = st.sidebar.checkbox(\"Enable smoothing\", value=True)\n",
        "    window = st.sidebar.slider(\"Smoothing window\", 1, 21, 5)\n",
        "\n",
        "    if apply_smooth:\n",
        "        df['tweets_smooth'] = df['tweets'].rolling(window=window, min_periods=1).mean()\n",
        "        df['sentiment_smooth'] = df['sentiment'].rolling(window=window, min_periods=1).mean()\n",
        "    else:\n",
        "        df['tweets_smooth'] = df['tweets']\n",
        "        df['sentiment_smooth'] = df['sentiment']\n",
        "\n",
        "    # range selector\n",
        "    st.sidebar.markdown(\"### Display range\")\n",
        "    if xcol == 'idx_time_dt':\n",
        "        start_date = df['idx_time_dt'].min().date()\n",
        "        end_date = df['idx_time_dt'].max().date()\n",
        "        sel = st.sidebar.date_input(\"Select date range\", [start_date, end_date])\n",
        "        mask = (df['idx_time_dt'].dt.date >= sel[0]) & (df['idx_time_dt'].dt.date <= sel[1])\n",
        "        df_view = df.loc[mask].copy()\n",
        "    else:\n",
        "        start = st.sidebar.number_input(\"Start row\", 0, max(0, len(df)-1), 0)\n",
        "        end = st.sidebar.number_input(\"End row\", 0, max(0, len(df)-1), len(df)-1)\n",
        "        df_view = df.iloc[int(start):int(end)+1].copy()\n",
        "\n",
        "    # KPIs\n",
        "    c1, c2, c3 = st.columns(3)\n",
        "    c1.metric(\"Rows shown\", int(df_view.shape[0]))\n",
        "    c2.metric(\"Total tweets\", int(df_view['tweets'].sum()) if df_view['tweets'].notna().any() else 0)\n",
        "    c3.metric(\"Mean sentiment\", round(df_view['sentiment'].mean(), 3) if df_view['sentiment'].notna().any() else \"N/A\")\n",
        "\n",
        "    # Plots\n",
        "    st.subheader(\"Tweet Volume\")\n",
        "    fig = go.Figure()\n",
        "    fig.add_trace(go.Scatter(x=df_view[xcol], y=df_view['tweets'], mode='lines+markers', name='tweets'))\n",
        "    fig.add_trace(go.Scatter(x=df_view[xcol], y=df_view['tweets_smooth'], mode='lines', name='smoothed', line=dict(dash='dash')))\n",
        "    fig.update_layout(height=420, margin=dict(l=10,r=10,t=30,b=10))\n",
        "    st.plotly_chart(fig, use_container_width=True)\n",
        "\n",
        "    st.subheader(\"Sentiment Over Time\")\n",
        "    fig2 = go.Figure()\n",
        "    fig2.add_trace(go.Scatter(x=df_view[xcol], y=df_view['sentiment'], mode='lines+markers', name='sentiment'))\n",
        "    fig2.add_trace(go.Scatter(x=df_view[xcol], y=df_view['sentiment_smooth'], mode='lines', name='smoothed', line=dict(dash='dot')))\n",
        "    fig2.update_layout(height=380, margin=dict(l=10,r=10,t=30,b=10))\n",
        "    st.plotly_chart(fig2, use_container_width=True)\n",
        "\n",
        "    if st.sidebar.checkbox(\"Show data preview\"):\n",
        "        st.dataframe(df_view.head(200))\n",
        "\n",
        "# Optional quick text analysis\n",
        "if os.path.exists('tweets.csv'):\n",
        "    st.markdown(\"---\")\n",
        "    st.header(\"Quick Text Summary (tweets.csv)\")\n",
        "    try:\n",
        "        tdf = pd.read_csv('tweets.csv', low_memory=False)\n",
        "        text_cols = [c for c in tdf.columns if 'text' in c.lower() or 'tweet' in c.lower()]\n",
        "        if text_cols:\n",
        "            txt = ' '.join(tdf[text_cols[0]].dropna().astype(str).tolist()).lower()\n",
        "            mentions = re.findall(r'@\\w+', txt)\n",
        "            hashtags = re.findall(r'#\\w+', txt)\n",
        "            top_mentions = Counter(mentions).most_common(12)\n",
        "            top_hashtags = Counter(hashtags).most_common(12)\n",
        "            st.markdown(\"**Top mentions**\")\n",
        "            st.table(top_mentions)\n",
        "            st.markdown(\"**Top hashtags**\")\n",
        "            st.table(top_hashtags)\n",
        "        else:\n",
        "            st.info(f\"No text-like column found. Columns: {list(tdf.columns)}\")\n",
        "    except Exception as e:\n",
        "        st.error(f\"Could not analyze tweets.csv: {e}\")\n",
        "else:\n",
        "    st.info(\"No tweets.csv present for text analysis.\")\n",
        "'''\n",
        "with open('collaborator_streamlit_app.py', 'w', encoding='utf-8') as f:\n",
        "    f.write(app_code)\n",
        "print(\"Created collaborator_streamlit_app.py\")\n"
      ],
      "metadata": {
        "colab": {
          "base_uri": "https://localhost:8080/"
        },
        "id": "Gc1a9s6iu1wQ",
        "outputId": "824c8996-7bcc-4105-8661-d900cd4e0be3"
      },
      "execution_count": 3,
      "outputs": [
        {
          "output_type": "stream",
          "name": "stdout",
          "text": [
            "Created collaborator_streamlit_app.py\n"
          ]
        }
      ]
    },
    {
      "cell_type": "markdown",
      "source": [
        "6 — Set ngrok authtoken"
      ],
      "metadata": {
        "id": "0jrtAIPkvv_Q"
      }
    },
    {
      "cell_type": "code",
      "source": [
        "\n",
        "from pyngrok import conf\n",
        "NGROK_AUTH_TOKEN = \"344LJHozddiK9TpbD9g42MNlRlZ_2u7vS4iymaF2G5ivMtkWv\"\n",
        "\n",
        "if NGROK_AUTH_TOKEN == \"344LJHozddiK9TpbD9g42MNlRlZ_2u7vS4iymaF2G5ivMtkWvE\":\n",
        "    raise ValueError(\"Set NGROK_AUTH_TOKEN in this cell before running Cell 7.\")\n",
        "conf.get_default().auth_token = NGROK_AUTH_TOKEN\n",
        "print(\"ngrok auth token configured.\")\n"
      ],
      "metadata": {
        "colab": {
          "base_uri": "https://localhost:8080/"
        },
        "id": "zciUAyLPvweI",
        "outputId": "e57a0e78-dac8-4010-a4f4-74fcb266d0a5"
      },
      "execution_count": 4,
      "outputs": [
        {
          "output_type": "stream",
          "name": "stdout",
          "text": [
            "ngrok auth token configured.\n"
          ]
        }
      ]
    },
    {
      "cell_type": "markdown",
      "source": [
        "7 — Start Streamlit & ngrok"
      ],
      "metadata": {
        "id": "dKMGkDRiv3n_"
      }
    },
    {
      "cell_type": "code",
      "source": [
        "# Starts Streamlit in background and exposes via ngrok\n",
        "import subprocess, time\n",
        "from pyngrok import ngrok\n",
        "\n",
        "# Clean previous processes\n",
        "!pkill -f streamlit || true\n",
        "!pkill -f ngrok || true\n",
        "\n",
        "# Start streamlit (serves collaborator_streamlit_app.py)\n",
        "cmd = \"streamlit run collaborator_streamlit_app.py --server.port 8501 --server.headless true\"\n",
        "proc = subprocess.Popen(cmd.split(), stdout=subprocess.PIPE, stderr=subprocess.PIPE)\n",
        "\n",
        "time.sleep(2)\n",
        "public_url = ngrok.connect(8501).public_url\n",
        "print(\"ngrok tunnel ->\", public_url)\n",
        "print(\"If the app doesn't respond immediately, wait 5-10s and refresh the URL.\")\n"
      ],
      "metadata": {
        "colab": {
          "base_uri": "https://localhost:8080/"
        },
        "id": "wCVpErQGv4B3",
        "outputId": "2eb2a23a-f594-4bd1-8cf7-246ad6f6820e"
      },
      "execution_count": 5,
      "outputs": [
        {
          "output_type": "stream",
          "name": "stdout",
          "text": [
            "^C\n",
            "^C\n",
            "ngrok tunnel -> https://epidemiologically-unemaciated-twanna.ngrok-free.dev\n",
            "If the app doesn't respond immediately, wait 5-10s and refresh the URL.\n"
          ]
        }
      ]
    }
  ]
}